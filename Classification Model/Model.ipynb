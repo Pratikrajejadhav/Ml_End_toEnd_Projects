{
 "cells": [
  {
   "cell_type": "code",
   "execution_count": 1,
   "metadata": {},
   "outputs": [],
   "source": [
    "#import all the packages \n",
    "import pandas as pd\n",
    "import numpy as np\n",
    "import seaborn as sns\n",
    "import matplotlib.pyplot as plt \n",
    "import warnings\n",
    "warnings.filterwarnings('ignore')"
   ]
  },
  {
   "cell_type": "code",
   "execution_count": 2,
   "id": "9ced09f6",
   "metadata": {},
   "outputs": [
    {
     "data": {
      "text/html": [
       "<div>\n",
       "<style scoped>\n",
       "    .dataframe tbody tr th:only-of-type {\n",
       "        vertical-align: middle;\n",
       "    }\n",
       "\n",
       "    .dataframe tbody tr th {\n",
       "        vertical-align: top;\n",
       "    }\n",
       "\n",
       "    .dataframe thead th {\n",
       "        text-align: right;\n",
       "    }\n",
       "</style>\n",
       "<table border=\"1\" class=\"dataframe\">\n",
       "  <thead>\n",
       "    <tr style=\"text-align: right;\">\n",
       "      <th></th>\n",
       "      <th>year</th>\n",
       "      <th>customer_id</th>\n",
       "      <th>phone_no</th>\n",
       "      <th>gender</th>\n",
       "      <th>age</th>\n",
       "      <th>no_of_days_subscribed</th>\n",
       "      <th>multi_screen</th>\n",
       "      <th>mail_subscribed</th>\n",
       "      <th>weekly_mins_watched</th>\n",
       "      <th>minimum_daily_mins</th>\n",
       "      <th>maximum_daily_mins</th>\n",
       "      <th>weekly_max_night_mins</th>\n",
       "      <th>videos_watched</th>\n",
       "      <th>maximum_days_inactive</th>\n",
       "      <th>customer_support_calls</th>\n",
       "      <th>churn</th>\n",
       "    </tr>\n",
       "  </thead>\n",
       "  <tbody>\n",
       "    <tr>\n",
       "      <th>0</th>\n",
       "      <td>2015</td>\n",
       "      <td>100198</td>\n",
       "      <td>409-8743</td>\n",
       "      <td>Female</td>\n",
       "      <td>36</td>\n",
       "      <td>62</td>\n",
       "      <td>no</td>\n",
       "      <td>no</td>\n",
       "      <td>148.35</td>\n",
       "      <td>12.2</td>\n",
       "      <td>16.81</td>\n",
       "      <td>82</td>\n",
       "      <td>1</td>\n",
       "      <td>4.0</td>\n",
       "      <td>1</td>\n",
       "      <td>0.0</td>\n",
       "    </tr>\n",
       "    <tr>\n",
       "      <th>1</th>\n",
       "      <td>2015</td>\n",
       "      <td>100643</td>\n",
       "      <td>340-5930</td>\n",
       "      <td>Female</td>\n",
       "      <td>39</td>\n",
       "      <td>149</td>\n",
       "      <td>no</td>\n",
       "      <td>no</td>\n",
       "      <td>294.45</td>\n",
       "      <td>7.7</td>\n",
       "      <td>33.37</td>\n",
       "      <td>87</td>\n",
       "      <td>3</td>\n",
       "      <td>3.0</td>\n",
       "      <td>2</td>\n",
       "      <td>0.0</td>\n",
       "    </tr>\n",
       "    <tr>\n",
       "      <th>2</th>\n",
       "      <td>2015</td>\n",
       "      <td>100756</td>\n",
       "      <td>372-3750</td>\n",
       "      <td>Female</td>\n",
       "      <td>65</td>\n",
       "      <td>126</td>\n",
       "      <td>no</td>\n",
       "      <td>no</td>\n",
       "      <td>87.30</td>\n",
       "      <td>11.9</td>\n",
       "      <td>9.89</td>\n",
       "      <td>91</td>\n",
       "      <td>1</td>\n",
       "      <td>4.0</td>\n",
       "      <td>5</td>\n",
       "      <td>1.0</td>\n",
       "    </tr>\n",
       "    <tr>\n",
       "      <th>3</th>\n",
       "      <td>2015</td>\n",
       "      <td>101595</td>\n",
       "      <td>331-4902</td>\n",
       "      <td>Female</td>\n",
       "      <td>24</td>\n",
       "      <td>131</td>\n",
       "      <td>no</td>\n",
       "      <td>yes</td>\n",
       "      <td>321.30</td>\n",
       "      <td>9.5</td>\n",
       "      <td>36.41</td>\n",
       "      <td>102</td>\n",
       "      <td>4</td>\n",
       "      <td>3.0</td>\n",
       "      <td>3</td>\n",
       "      <td>0.0</td>\n",
       "    </tr>\n",
       "    <tr>\n",
       "      <th>4</th>\n",
       "      <td>2015</td>\n",
       "      <td>101653</td>\n",
       "      <td>351-8398</td>\n",
       "      <td>Female</td>\n",
       "      <td>40</td>\n",
       "      <td>191</td>\n",
       "      <td>no</td>\n",
       "      <td>no</td>\n",
       "      <td>243.00</td>\n",
       "      <td>10.9</td>\n",
       "      <td>27.54</td>\n",
       "      <td>83</td>\n",
       "      <td>7</td>\n",
       "      <td>3.0</td>\n",
       "      <td>1</td>\n",
       "      <td>0.0</td>\n",
       "    </tr>\n",
       "    <tr>\n",
       "      <th>...</th>\n",
       "      <td>...</td>\n",
       "      <td>...</td>\n",
       "      <td>...</td>\n",
       "      <td>...</td>\n",
       "      <td>...</td>\n",
       "      <td>...</td>\n",
       "      <td>...</td>\n",
       "      <td>...</td>\n",
       "      <td>...</td>\n",
       "      <td>...</td>\n",
       "      <td>...</td>\n",
       "      <td>...</td>\n",
       "      <td>...</td>\n",
       "      <td>...</td>\n",
       "      <td>...</td>\n",
       "      <td>...</td>\n",
       "    </tr>\n",
       "    <tr>\n",
       "      <th>1995</th>\n",
       "      <td>2015</td>\n",
       "      <td>997132</td>\n",
       "      <td>385-7387</td>\n",
       "      <td>Female</td>\n",
       "      <td>54</td>\n",
       "      <td>75</td>\n",
       "      <td>no</td>\n",
       "      <td>yes</td>\n",
       "      <td>182.25</td>\n",
       "      <td>11.3</td>\n",
       "      <td>20.66</td>\n",
       "      <td>97</td>\n",
       "      <td>5</td>\n",
       "      <td>4.0</td>\n",
       "      <td>2</td>\n",
       "      <td>NaN</td>\n",
       "    </tr>\n",
       "    <tr>\n",
       "      <th>1996</th>\n",
       "      <td>2015</td>\n",
       "      <td>998086</td>\n",
       "      <td>383-9255</td>\n",
       "      <td>Male</td>\n",
       "      <td>45</td>\n",
       "      <td>127</td>\n",
       "      <td>no</td>\n",
       "      <td>no</td>\n",
       "      <td>273.45</td>\n",
       "      <td>9.3</td>\n",
       "      <td>30.99</td>\n",
       "      <td>116</td>\n",
       "      <td>3</td>\n",
       "      <td>3.0</td>\n",
       "      <td>1</td>\n",
       "      <td>0.0</td>\n",
       "    </tr>\n",
       "    <tr>\n",
       "      <th>1997</th>\n",
       "      <td>2015</td>\n",
       "      <td>998474</td>\n",
       "      <td>353-2080</td>\n",
       "      <td>NaN</td>\n",
       "      <td>53</td>\n",
       "      <td>94</td>\n",
       "      <td>no</td>\n",
       "      <td>no</td>\n",
       "      <td>128.85</td>\n",
       "      <td>15.6</td>\n",
       "      <td>14.60</td>\n",
       "      <td>110</td>\n",
       "      <td>16</td>\n",
       "      <td>5.0</td>\n",
       "      <td>0</td>\n",
       "      <td>0.0</td>\n",
       "    </tr>\n",
       "    <tr>\n",
       "      <th>1998</th>\n",
       "      <td>2015</td>\n",
       "      <td>998934</td>\n",
       "      <td>359-7788</td>\n",
       "      <td>Male</td>\n",
       "      <td>40</td>\n",
       "      <td>94</td>\n",
       "      <td>no</td>\n",
       "      <td>no</td>\n",
       "      <td>178.05</td>\n",
       "      <td>10.4</td>\n",
       "      <td>20.18</td>\n",
       "      <td>100</td>\n",
       "      <td>6</td>\n",
       "      <td>NaN</td>\n",
       "      <td>3</td>\n",
       "      <td>0.0</td>\n",
       "    </tr>\n",
       "    <tr>\n",
       "      <th>1999</th>\n",
       "      <td>2015</td>\n",
       "      <td>999961</td>\n",
       "      <td>414-1496</td>\n",
       "      <td>Male</td>\n",
       "      <td>37</td>\n",
       "      <td>73</td>\n",
       "      <td>no</td>\n",
       "      <td>no</td>\n",
       "      <td>326.70</td>\n",
       "      <td>10.3</td>\n",
       "      <td>37.03</td>\n",
       "      <td>89</td>\n",
       "      <td>6</td>\n",
       "      <td>3.0</td>\n",
       "      <td>1</td>\n",
       "      <td>1.0</td>\n",
       "    </tr>\n",
       "  </tbody>\n",
       "</table>\n",
       "<p>2000 rows × 16 columns</p>\n",
       "</div>"
      ],
      "text/plain": [
       "      year  customer_id  phone_no  gender  age  no_of_days_subscribed  \\\n",
       "0     2015       100198  409-8743  Female   36                     62   \n",
       "1     2015       100643  340-5930  Female   39                    149   \n",
       "2     2015       100756  372-3750  Female   65                    126   \n",
       "3     2015       101595  331-4902  Female   24                    131   \n",
       "4     2015       101653  351-8398  Female   40                    191   \n",
       "...    ...          ...       ...     ...  ...                    ...   \n",
       "1995  2015       997132  385-7387  Female   54                     75   \n",
       "1996  2015       998086  383-9255    Male   45                    127   \n",
       "1997  2015       998474  353-2080     NaN   53                     94   \n",
       "1998  2015       998934  359-7788    Male   40                     94   \n",
       "1999  2015       999961  414-1496    Male   37                     73   \n",
       "\n",
       "     multi_screen mail_subscribed  weekly_mins_watched  minimum_daily_mins  \\\n",
       "0              no              no               148.35                12.2   \n",
       "1              no              no               294.45                 7.7   \n",
       "2              no              no                87.30                11.9   \n",
       "3              no             yes               321.30                 9.5   \n",
       "4              no              no               243.00                10.9   \n",
       "...           ...             ...                  ...                 ...   \n",
       "1995           no             yes               182.25                11.3   \n",
       "1996           no              no               273.45                 9.3   \n",
       "1997           no              no               128.85                15.6   \n",
       "1998           no              no               178.05                10.4   \n",
       "1999           no              no               326.70                10.3   \n",
       "\n",
       "      maximum_daily_mins  weekly_max_night_mins  videos_watched  \\\n",
       "0                  16.81                     82               1   \n",
       "1                  33.37                     87               3   \n",
       "2                   9.89                     91               1   \n",
       "3                  36.41                    102               4   \n",
       "4                  27.54                     83               7   \n",
       "...                  ...                    ...             ...   \n",
       "1995               20.66                     97               5   \n",
       "1996               30.99                    116               3   \n",
       "1997               14.60                    110              16   \n",
       "1998               20.18                    100               6   \n",
       "1999               37.03                     89               6   \n",
       "\n",
       "      maximum_days_inactive  customer_support_calls  churn  \n",
       "0                       4.0                       1    0.0  \n",
       "1                       3.0                       2    0.0  \n",
       "2                       4.0                       5    1.0  \n",
       "3                       3.0                       3    0.0  \n",
       "4                       3.0                       1    0.0  \n",
       "...                     ...                     ...    ...  \n",
       "1995                    4.0                       2    NaN  \n",
       "1996                    3.0                       1    0.0  \n",
       "1997                    5.0                       0    0.0  \n",
       "1998                    NaN                       3    0.0  \n",
       "1999                    3.0                       1    1.0  \n",
       "\n",
       "[2000 rows x 16 columns]"
      ]
     },
     "execution_count": 2,
     "metadata": {},
     "output_type": "execute_result"
    }
   ],
   "source": [
    "# load the data\n",
    "df = pd.read_csv(\"data_regression.csv\")\n",
    "df"
   ]
  },
  {
   "cell_type": "code",
   "execution_count": 3,
   "id": "bef26d19",
   "metadata": {},
   "outputs": [
    {
     "data": {
      "text/plain": [
       "churn\n",
       "0.0    1703\n",
       "1.0     262\n",
       "Name: count, dtype: int64"
      ]
     },
     "execution_count": 3,
     "metadata": {},
     "output_type": "execute_result"
    }
   ],
   "source": [
    "df['churn'].value_counts()"
   ]
  },
  {
   "cell_type": "code",
   "execution_count": 4,
   "id": "c3a984a0",
   "metadata": {},
   "outputs": [
    {
     "data": {
      "text/plain": [
       "year                       0\n",
       "customer_id                0\n",
       "phone_no                   0\n",
       "gender                    24\n",
       "age                        0\n",
       "no_of_days_subscribed      0\n",
       "multi_screen               0\n",
       "mail_subscribed            0\n",
       "weekly_mins_watched        0\n",
       "minimum_daily_mins         0\n",
       "maximum_daily_mins         0\n",
       "weekly_max_night_mins      0\n",
       "videos_watched             0\n",
       "maximum_days_inactive     28\n",
       "customer_support_calls     0\n",
       "churn                     35\n",
       "dtype: int64"
      ]
     },
     "execution_count": 4,
     "metadata": {},
     "output_type": "execute_result"
    }
   ],
   "source": [
    "# checking the missing values \n",
    "df.isnull().sum()"
   ]
  },
  {
   "cell_type": "code",
   "execution_count": 5,
   "id": "e1bd750a",
   "metadata": {},
   "outputs": [],
   "source": [
    "# we drop misiing values bcz there is very less missing values in it \n",
    "df.dropna(inplace=True)\n",
    "df.reset_index(inplace=True)"
   ]
  },
  {
   "cell_type": "code",
   "execution_count": 6,
   "id": "40065420",
   "metadata": {},
   "outputs": [
    {
     "data": {
      "text/plain": [
       "index                     0\n",
       "year                      0\n",
       "customer_id               0\n",
       "phone_no                  0\n",
       "gender                    0\n",
       "age                       0\n",
       "no_of_days_subscribed     0\n",
       "multi_screen              0\n",
       "mail_subscribed           0\n",
       "weekly_mins_watched       0\n",
       "minimum_daily_mins        0\n",
       "maximum_daily_mins        0\n",
       "weekly_max_night_mins     0\n",
       "videos_watched            0\n",
       "maximum_days_inactive     0\n",
       "customer_support_calls    0\n",
       "churn                     0\n",
       "dtype: int64"
      ]
     },
     "execution_count": 6,
     "metadata": {},
     "output_type": "execute_result"
    }
   ],
   "source": [
    "df.isnull().sum()"
   ]
  },
  {
   "cell_type": "code",
   "execution_count": 7,
   "id": "38d4a15a",
   "metadata": {},
   "outputs": [
    {
     "data": {
      "text/plain": [
       "index                       int64\n",
       "year                        int64\n",
       "customer_id                 int64\n",
       "phone_no                   object\n",
       "gender                     object\n",
       "age                         int64\n",
       "no_of_days_subscribed       int64\n",
       "multi_screen               object\n",
       "mail_subscribed            object\n",
       "weekly_mins_watched       float64\n",
       "minimum_daily_mins        float64\n",
       "maximum_daily_mins        float64\n",
       "weekly_max_night_mins       int64\n",
       "videos_watched              int64\n",
       "maximum_days_inactive     float64\n",
       "customer_support_calls      int64\n",
       "churn                     float64\n",
       "dtype: object"
      ]
     },
     "execution_count": 7,
     "metadata": {},
     "output_type": "execute_result"
    }
   ],
   "source": [
    "# checking the dtypes \n",
    "df.dtypes"
   ]
  },
  {
   "cell_type": "code",
   "execution_count": 8,
   "id": "d09771af",
   "metadata": {},
   "outputs": [],
   "source": [
    "# numerical columns\n",
    "# num_cols = df.select_dtypes(exclude='object').columns"
   ]
  },
  {
   "cell_type": "code",
   "execution_count": 9,
   "id": "77a6733e",
   "metadata": {},
   "outputs": [
    {
     "data": {
      "text/plain": [
       "Index(['phone_no', 'gender', 'multi_screen', 'mail_subscribed'], dtype='object')"
      ]
     },
     "execution_count": 9,
     "metadata": {},
     "output_type": "execute_result"
    }
   ],
   "source": [
    "# categorical column\n",
    "cat_cols = df.select_dtypes(include='object').columns\n",
    "cat_cols"
   ]
  },
  {
   "cell_type": "code",
   "execution_count": 10,
   "id": "f793ce52",
   "metadata": {},
   "outputs": [],
   "source": [
    "df['churn']=df['churn'].astype('int')"
   ]
  },
  {
   "cell_type": "code",
   "execution_count": 11,
   "id": "7c96505e",
   "metadata": {},
   "outputs": [
    {
     "data": {
      "text/html": [
       "<div>\n",
       "<style scoped>\n",
       "    .dataframe tbody tr th:only-of-type {\n",
       "        vertical-align: middle;\n",
       "    }\n",
       "\n",
       "    .dataframe tbody tr th {\n",
       "        vertical-align: top;\n",
       "    }\n",
       "\n",
       "    .dataframe thead th {\n",
       "        text-align: right;\n",
       "    }\n",
       "</style>\n",
       "<table border=\"1\" class=\"dataframe\">\n",
       "  <thead>\n",
       "    <tr style=\"text-align: right;\">\n",
       "      <th></th>\n",
       "      <th>index</th>\n",
       "      <th>year</th>\n",
       "      <th>customer_id</th>\n",
       "      <th>phone_no</th>\n",
       "      <th>gender</th>\n",
       "      <th>age</th>\n",
       "      <th>no_of_days_subscribed</th>\n",
       "      <th>multi_screen</th>\n",
       "      <th>mail_subscribed</th>\n",
       "      <th>weekly_mins_watched</th>\n",
       "      <th>minimum_daily_mins</th>\n",
       "      <th>maximum_daily_mins</th>\n",
       "      <th>weekly_max_night_mins</th>\n",
       "      <th>videos_watched</th>\n",
       "      <th>maximum_days_inactive</th>\n",
       "      <th>customer_support_calls</th>\n",
       "      <th>churn</th>\n",
       "    </tr>\n",
       "  </thead>\n",
       "  <tbody>\n",
       "    <tr>\n",
       "      <th>0</th>\n",
       "      <td>0</td>\n",
       "      <td>2015</td>\n",
       "      <td>100198</td>\n",
       "      <td>409-8743</td>\n",
       "      <td>Female</td>\n",
       "      <td>36</td>\n",
       "      <td>62</td>\n",
       "      <td>no</td>\n",
       "      <td>no</td>\n",
       "      <td>148.35</td>\n",
       "      <td>12.2</td>\n",
       "      <td>16.81</td>\n",
       "      <td>82</td>\n",
       "      <td>1</td>\n",
       "      <td>4.0</td>\n",
       "      <td>1</td>\n",
       "      <td>0</td>\n",
       "    </tr>\n",
       "    <tr>\n",
       "      <th>1</th>\n",
       "      <td>1</td>\n",
       "      <td>2015</td>\n",
       "      <td>100643</td>\n",
       "      <td>340-5930</td>\n",
       "      <td>Female</td>\n",
       "      <td>39</td>\n",
       "      <td>149</td>\n",
       "      <td>no</td>\n",
       "      <td>no</td>\n",
       "      <td>294.45</td>\n",
       "      <td>7.7</td>\n",
       "      <td>33.37</td>\n",
       "      <td>87</td>\n",
       "      <td>3</td>\n",
       "      <td>3.0</td>\n",
       "      <td>2</td>\n",
       "      <td>0</td>\n",
       "    </tr>\n",
       "    <tr>\n",
       "      <th>2</th>\n",
       "      <td>2</td>\n",
       "      <td>2015</td>\n",
       "      <td>100756</td>\n",
       "      <td>372-3750</td>\n",
       "      <td>Female</td>\n",
       "      <td>65</td>\n",
       "      <td>126</td>\n",
       "      <td>no</td>\n",
       "      <td>no</td>\n",
       "      <td>87.30</td>\n",
       "      <td>11.9</td>\n",
       "      <td>9.89</td>\n",
       "      <td>91</td>\n",
       "      <td>1</td>\n",
       "      <td>4.0</td>\n",
       "      <td>5</td>\n",
       "      <td>1</td>\n",
       "    </tr>\n",
       "    <tr>\n",
       "      <th>3</th>\n",
       "      <td>3</td>\n",
       "      <td>2015</td>\n",
       "      <td>101595</td>\n",
       "      <td>331-4902</td>\n",
       "      <td>Female</td>\n",
       "      <td>24</td>\n",
       "      <td>131</td>\n",
       "      <td>no</td>\n",
       "      <td>yes</td>\n",
       "      <td>321.30</td>\n",
       "      <td>9.5</td>\n",
       "      <td>36.41</td>\n",
       "      <td>102</td>\n",
       "      <td>4</td>\n",
       "      <td>3.0</td>\n",
       "      <td>3</td>\n",
       "      <td>0</td>\n",
       "    </tr>\n",
       "    <tr>\n",
       "      <th>4</th>\n",
       "      <td>4</td>\n",
       "      <td>2015</td>\n",
       "      <td>101653</td>\n",
       "      <td>351-8398</td>\n",
       "      <td>Female</td>\n",
       "      <td>40</td>\n",
       "      <td>191</td>\n",
       "      <td>no</td>\n",
       "      <td>no</td>\n",
       "      <td>243.00</td>\n",
       "      <td>10.9</td>\n",
       "      <td>27.54</td>\n",
       "      <td>83</td>\n",
       "      <td>7</td>\n",
       "      <td>3.0</td>\n",
       "      <td>1</td>\n",
       "      <td>0</td>\n",
       "    </tr>\n",
       "    <tr>\n",
       "      <th>...</th>\n",
       "      <td>...</td>\n",
       "      <td>...</td>\n",
       "      <td>...</td>\n",
       "      <td>...</td>\n",
       "      <td>...</td>\n",
       "      <td>...</td>\n",
       "      <td>...</td>\n",
       "      <td>...</td>\n",
       "      <td>...</td>\n",
       "      <td>...</td>\n",
       "      <td>...</td>\n",
       "      <td>...</td>\n",
       "      <td>...</td>\n",
       "      <td>...</td>\n",
       "      <td>...</td>\n",
       "      <td>...</td>\n",
       "      <td>...</td>\n",
       "    </tr>\n",
       "    <tr>\n",
       "      <th>1913</th>\n",
       "      <td>1990</td>\n",
       "      <td>2015</td>\n",
       "      <td>993714</td>\n",
       "      <td>364-1969</td>\n",
       "      <td>Male</td>\n",
       "      <td>32</td>\n",
       "      <td>61</td>\n",
       "      <td>no</td>\n",
       "      <td>no</td>\n",
       "      <td>67.50</td>\n",
       "      <td>9.8</td>\n",
       "      <td>7.65</td>\n",
       "      <td>94</td>\n",
       "      <td>6</td>\n",
       "      <td>3.0</td>\n",
       "      <td>2</td>\n",
       "      <td>0</td>\n",
       "    </tr>\n",
       "    <tr>\n",
       "      <th>1914</th>\n",
       "      <td>1991</td>\n",
       "      <td>2015</td>\n",
       "      <td>993815</td>\n",
       "      <td>387-5891</td>\n",
       "      <td>Male</td>\n",
       "      <td>49</td>\n",
       "      <td>50</td>\n",
       "      <td>yes</td>\n",
       "      <td>yes</td>\n",
       "      <td>460.65</td>\n",
       "      <td>8.0</td>\n",
       "      <td>52.21</td>\n",
       "      <td>109</td>\n",
       "      <td>3</td>\n",
       "      <td>3.0</td>\n",
       "      <td>0</td>\n",
       "      <td>0</td>\n",
       "    </tr>\n",
       "    <tr>\n",
       "      <th>1915</th>\n",
       "      <td>1992</td>\n",
       "      <td>2015</td>\n",
       "      <td>994954</td>\n",
       "      <td>329-3222</td>\n",
       "      <td>Female</td>\n",
       "      <td>42</td>\n",
       "      <td>119</td>\n",
       "      <td>no</td>\n",
       "      <td>yes</td>\n",
       "      <td>176.70</td>\n",
       "      <td>7.6</td>\n",
       "      <td>20.03</td>\n",
       "      <td>76</td>\n",
       "      <td>3</td>\n",
       "      <td>3.0</td>\n",
       "      <td>3</td>\n",
       "      <td>0</td>\n",
       "    </tr>\n",
       "    <tr>\n",
       "      <th>1916</th>\n",
       "      <td>1996</td>\n",
       "      <td>2015</td>\n",
       "      <td>998086</td>\n",
       "      <td>383-9255</td>\n",
       "      <td>Male</td>\n",
       "      <td>45</td>\n",
       "      <td>127</td>\n",
       "      <td>no</td>\n",
       "      <td>no</td>\n",
       "      <td>273.45</td>\n",
       "      <td>9.3</td>\n",
       "      <td>30.99</td>\n",
       "      <td>116</td>\n",
       "      <td>3</td>\n",
       "      <td>3.0</td>\n",
       "      <td>1</td>\n",
       "      <td>0</td>\n",
       "    </tr>\n",
       "    <tr>\n",
       "      <th>1917</th>\n",
       "      <td>1999</td>\n",
       "      <td>2015</td>\n",
       "      <td>999961</td>\n",
       "      <td>414-1496</td>\n",
       "      <td>Male</td>\n",
       "      <td>37</td>\n",
       "      <td>73</td>\n",
       "      <td>no</td>\n",
       "      <td>no</td>\n",
       "      <td>326.70</td>\n",
       "      <td>10.3</td>\n",
       "      <td>37.03</td>\n",
       "      <td>89</td>\n",
       "      <td>6</td>\n",
       "      <td>3.0</td>\n",
       "      <td>1</td>\n",
       "      <td>1</td>\n",
       "    </tr>\n",
       "  </tbody>\n",
       "</table>\n",
       "<p>1918 rows × 17 columns</p>\n",
       "</div>"
      ],
      "text/plain": [
       "      index  year  customer_id  phone_no  gender  age  no_of_days_subscribed  \\\n",
       "0         0  2015       100198  409-8743  Female   36                     62   \n",
       "1         1  2015       100643  340-5930  Female   39                    149   \n",
       "2         2  2015       100756  372-3750  Female   65                    126   \n",
       "3         3  2015       101595  331-4902  Female   24                    131   \n",
       "4         4  2015       101653  351-8398  Female   40                    191   \n",
       "...     ...   ...          ...       ...     ...  ...                    ...   \n",
       "1913   1990  2015       993714  364-1969    Male   32                     61   \n",
       "1914   1991  2015       993815  387-5891    Male   49                     50   \n",
       "1915   1992  2015       994954  329-3222  Female   42                    119   \n",
       "1916   1996  2015       998086  383-9255    Male   45                    127   \n",
       "1917   1999  2015       999961  414-1496    Male   37                     73   \n",
       "\n",
       "     multi_screen mail_subscribed  weekly_mins_watched  minimum_daily_mins  \\\n",
       "0              no              no               148.35                12.2   \n",
       "1              no              no               294.45                 7.7   \n",
       "2              no              no                87.30                11.9   \n",
       "3              no             yes               321.30                 9.5   \n",
       "4              no              no               243.00                10.9   \n",
       "...           ...             ...                  ...                 ...   \n",
       "1913           no              no                67.50                 9.8   \n",
       "1914          yes             yes               460.65                 8.0   \n",
       "1915           no             yes               176.70                 7.6   \n",
       "1916           no              no               273.45                 9.3   \n",
       "1917           no              no               326.70                10.3   \n",
       "\n",
       "      maximum_daily_mins  weekly_max_night_mins  videos_watched  \\\n",
       "0                  16.81                     82               1   \n",
       "1                  33.37                     87               3   \n",
       "2                   9.89                     91               1   \n",
       "3                  36.41                    102               4   \n",
       "4                  27.54                     83               7   \n",
       "...                  ...                    ...             ...   \n",
       "1913                7.65                     94               6   \n",
       "1914               52.21                    109               3   \n",
       "1915               20.03                     76               3   \n",
       "1916               30.99                    116               3   \n",
       "1917               37.03                     89               6   \n",
       "\n",
       "      maximum_days_inactive  customer_support_calls  churn  \n",
       "0                       4.0                       1      0  \n",
       "1                       3.0                       2      0  \n",
       "2                       4.0                       5      1  \n",
       "3                       3.0                       3      0  \n",
       "4                       3.0                       1      0  \n",
       "...                     ...                     ...    ...  \n",
       "1913                    3.0                       2      0  \n",
       "1914                    3.0                       0      0  \n",
       "1915                    3.0                       3      0  \n",
       "1916                    3.0                       1      0  \n",
       "1917                    3.0                       1      1  \n",
       "\n",
       "[1918 rows x 17 columns]"
      ]
     },
     "execution_count": 11,
     "metadata": {},
     "output_type": "execute_result"
    }
   ],
   "source": [
    "df"
   ]
  },
  {
   "cell_type": "code",
   "execution_count": 12,
   "id": "837bff24",
   "metadata": {},
   "outputs": [
    {
     "data": {
      "text/plain": [
       "churn\n",
       "0    1665\n",
       "1     253\n",
       "Name: count, dtype: int64"
      ]
     },
     "execution_count": 12,
     "metadata": {},
     "output_type": "execute_result"
    }
   ],
   "source": [
    "df['churn'].value_counts()"
   ]
  },
  {
   "cell_type": "code",
   "execution_count": 13,
   "id": "5be63d5e",
   "metadata": {},
   "outputs": [
    {
     "data": {
      "text/html": [
       "<div>\n",
       "<style scoped>\n",
       "    .dataframe tbody tr th:only-of-type {\n",
       "        vertical-align: middle;\n",
       "    }\n",
       "\n",
       "    .dataframe tbody tr th {\n",
       "        vertical-align: top;\n",
       "    }\n",
       "\n",
       "    .dataframe thead th {\n",
       "        text-align: right;\n",
       "    }\n",
       "</style>\n",
       "<table border=\"1\" class=\"dataframe\">\n",
       "  <thead>\n",
       "    <tr style=\"text-align: right;\">\n",
       "      <th></th>\n",
       "      <th>index</th>\n",
       "      <th>year</th>\n",
       "      <th>customer_id</th>\n",
       "      <th>phone_no</th>\n",
       "      <th>gender</th>\n",
       "      <th>age</th>\n",
       "      <th>no_of_days_subscribed</th>\n",
       "      <th>multi_screen</th>\n",
       "      <th>mail_subscribed</th>\n",
       "      <th>weekly_mins_watched</th>\n",
       "      <th>minimum_daily_mins</th>\n",
       "      <th>maximum_daily_mins</th>\n",
       "      <th>weekly_max_night_mins</th>\n",
       "      <th>videos_watched</th>\n",
       "      <th>maximum_days_inactive</th>\n",
       "      <th>customer_support_calls</th>\n",
       "      <th>churn</th>\n",
       "    </tr>\n",
       "  </thead>\n",
       "  <tbody>\n",
       "    <tr>\n",
       "      <th>0</th>\n",
       "      <td>0</td>\n",
       "      <td>2015</td>\n",
       "      <td>100198</td>\n",
       "      <td>409-8743</td>\n",
       "      <td>Female</td>\n",
       "      <td>36</td>\n",
       "      <td>62</td>\n",
       "      <td>no</td>\n",
       "      <td>no</td>\n",
       "      <td>148.35</td>\n",
       "      <td>12.2</td>\n",
       "      <td>16.81</td>\n",
       "      <td>82</td>\n",
       "      <td>1</td>\n",
       "      <td>4.0</td>\n",
       "      <td>1</td>\n",
       "      <td>0</td>\n",
       "    </tr>\n",
       "    <tr>\n",
       "      <th>1</th>\n",
       "      <td>1</td>\n",
       "      <td>2015</td>\n",
       "      <td>100643</td>\n",
       "      <td>340-5930</td>\n",
       "      <td>Female</td>\n",
       "      <td>39</td>\n",
       "      <td>149</td>\n",
       "      <td>no</td>\n",
       "      <td>no</td>\n",
       "      <td>294.45</td>\n",
       "      <td>7.7</td>\n",
       "      <td>33.37</td>\n",
       "      <td>87</td>\n",
       "      <td>3</td>\n",
       "      <td>3.0</td>\n",
       "      <td>2</td>\n",
       "      <td>0</td>\n",
       "    </tr>\n",
       "  </tbody>\n",
       "</table>\n",
       "</div>"
      ],
      "text/plain": [
       "   index  year  customer_id  phone_no  gender  age  no_of_days_subscribed  \\\n",
       "0      0  2015       100198  409-8743  Female   36                     62   \n",
       "1      1  2015       100643  340-5930  Female   39                    149   \n",
       "\n",
       "  multi_screen mail_subscribed  weekly_mins_watched  minimum_daily_mins  \\\n",
       "0           no              no               148.35                12.2   \n",
       "1           no              no               294.45                 7.7   \n",
       "\n",
       "   maximum_daily_mins  weekly_max_night_mins  videos_watched  \\\n",
       "0               16.81                     82               1   \n",
       "1               33.37                     87               3   \n",
       "\n",
       "   maximum_days_inactive  customer_support_calls  churn  \n",
       "0                    4.0                       1      0  \n",
       "1                    3.0                       2      0  "
      ]
     },
     "execution_count": 13,
     "metadata": {},
     "output_type": "execute_result"
    }
   ],
   "source": [
    "df.head(2)"
   ]
  },
  {
   "cell_type": "code",
   "execution_count": 14,
   "id": "f31759a7",
   "metadata": {},
   "outputs": [],
   "source": [
    "# Drop the unwanted columns\n",
    "col_list = ['index','year','customer_id','phone_no',]\n",
    "df.drop(columns=col_list,inplace=True)"
   ]
  },
  {
   "cell_type": "code",
   "execution_count": 15,
   "id": "b7f501aa",
   "metadata": {},
   "outputs": [
    {
     "data": {
      "text/html": [
       "<div>\n",
       "<style scoped>\n",
       "    .dataframe tbody tr th:only-of-type {\n",
       "        vertical-align: middle;\n",
       "    }\n",
       "\n",
       "    .dataframe tbody tr th {\n",
       "        vertical-align: top;\n",
       "    }\n",
       "\n",
       "    .dataframe thead th {\n",
       "        text-align: right;\n",
       "    }\n",
       "</style>\n",
       "<table border=\"1\" class=\"dataframe\">\n",
       "  <thead>\n",
       "    <tr style=\"text-align: right;\">\n",
       "      <th></th>\n",
       "      <th>gender</th>\n",
       "      <th>age</th>\n",
       "      <th>no_of_days_subscribed</th>\n",
       "      <th>multi_screen</th>\n",
       "      <th>mail_subscribed</th>\n",
       "      <th>weekly_mins_watched</th>\n",
       "      <th>minimum_daily_mins</th>\n",
       "      <th>maximum_daily_mins</th>\n",
       "      <th>weekly_max_night_mins</th>\n",
       "      <th>videos_watched</th>\n",
       "      <th>maximum_days_inactive</th>\n",
       "      <th>customer_support_calls</th>\n",
       "      <th>churn</th>\n",
       "    </tr>\n",
       "  </thead>\n",
       "  <tbody>\n",
       "    <tr>\n",
       "      <th>0</th>\n",
       "      <td>Female</td>\n",
       "      <td>36</td>\n",
       "      <td>62</td>\n",
       "      <td>no</td>\n",
       "      <td>no</td>\n",
       "      <td>148.35</td>\n",
       "      <td>12.2</td>\n",
       "      <td>16.81</td>\n",
       "      <td>82</td>\n",
       "      <td>1</td>\n",
       "      <td>4.0</td>\n",
       "      <td>1</td>\n",
       "      <td>0</td>\n",
       "    </tr>\n",
       "    <tr>\n",
       "      <th>1</th>\n",
       "      <td>Female</td>\n",
       "      <td>39</td>\n",
       "      <td>149</td>\n",
       "      <td>no</td>\n",
       "      <td>no</td>\n",
       "      <td>294.45</td>\n",
       "      <td>7.7</td>\n",
       "      <td>33.37</td>\n",
       "      <td>87</td>\n",
       "      <td>3</td>\n",
       "      <td>3.0</td>\n",
       "      <td>2</td>\n",
       "      <td>0</td>\n",
       "    </tr>\n",
       "    <tr>\n",
       "      <th>2</th>\n",
       "      <td>Female</td>\n",
       "      <td>65</td>\n",
       "      <td>126</td>\n",
       "      <td>no</td>\n",
       "      <td>no</td>\n",
       "      <td>87.30</td>\n",
       "      <td>11.9</td>\n",
       "      <td>9.89</td>\n",
       "      <td>91</td>\n",
       "      <td>1</td>\n",
       "      <td>4.0</td>\n",
       "      <td>5</td>\n",
       "      <td>1</td>\n",
       "    </tr>\n",
       "    <tr>\n",
       "      <th>3</th>\n",
       "      <td>Female</td>\n",
       "      <td>24</td>\n",
       "      <td>131</td>\n",
       "      <td>no</td>\n",
       "      <td>yes</td>\n",
       "      <td>321.30</td>\n",
       "      <td>9.5</td>\n",
       "      <td>36.41</td>\n",
       "      <td>102</td>\n",
       "      <td>4</td>\n",
       "      <td>3.0</td>\n",
       "      <td>3</td>\n",
       "      <td>0</td>\n",
       "    </tr>\n",
       "    <tr>\n",
       "      <th>4</th>\n",
       "      <td>Female</td>\n",
       "      <td>40</td>\n",
       "      <td>191</td>\n",
       "      <td>no</td>\n",
       "      <td>no</td>\n",
       "      <td>243.00</td>\n",
       "      <td>10.9</td>\n",
       "      <td>27.54</td>\n",
       "      <td>83</td>\n",
       "      <td>7</td>\n",
       "      <td>3.0</td>\n",
       "      <td>1</td>\n",
       "      <td>0</td>\n",
       "    </tr>\n",
       "    <tr>\n",
       "      <th>...</th>\n",
       "      <td>...</td>\n",
       "      <td>...</td>\n",
       "      <td>...</td>\n",
       "      <td>...</td>\n",
       "      <td>...</td>\n",
       "      <td>...</td>\n",
       "      <td>...</td>\n",
       "      <td>...</td>\n",
       "      <td>...</td>\n",
       "      <td>...</td>\n",
       "      <td>...</td>\n",
       "      <td>...</td>\n",
       "      <td>...</td>\n",
       "    </tr>\n",
       "    <tr>\n",
       "      <th>1913</th>\n",
       "      <td>Male</td>\n",
       "      <td>32</td>\n",
       "      <td>61</td>\n",
       "      <td>no</td>\n",
       "      <td>no</td>\n",
       "      <td>67.50</td>\n",
       "      <td>9.8</td>\n",
       "      <td>7.65</td>\n",
       "      <td>94</td>\n",
       "      <td>6</td>\n",
       "      <td>3.0</td>\n",
       "      <td>2</td>\n",
       "      <td>0</td>\n",
       "    </tr>\n",
       "    <tr>\n",
       "      <th>1914</th>\n",
       "      <td>Male</td>\n",
       "      <td>49</td>\n",
       "      <td>50</td>\n",
       "      <td>yes</td>\n",
       "      <td>yes</td>\n",
       "      <td>460.65</td>\n",
       "      <td>8.0</td>\n",
       "      <td>52.21</td>\n",
       "      <td>109</td>\n",
       "      <td>3</td>\n",
       "      <td>3.0</td>\n",
       "      <td>0</td>\n",
       "      <td>0</td>\n",
       "    </tr>\n",
       "    <tr>\n",
       "      <th>1915</th>\n",
       "      <td>Female</td>\n",
       "      <td>42</td>\n",
       "      <td>119</td>\n",
       "      <td>no</td>\n",
       "      <td>yes</td>\n",
       "      <td>176.70</td>\n",
       "      <td>7.6</td>\n",
       "      <td>20.03</td>\n",
       "      <td>76</td>\n",
       "      <td>3</td>\n",
       "      <td>3.0</td>\n",
       "      <td>3</td>\n",
       "      <td>0</td>\n",
       "    </tr>\n",
       "    <tr>\n",
       "      <th>1916</th>\n",
       "      <td>Male</td>\n",
       "      <td>45</td>\n",
       "      <td>127</td>\n",
       "      <td>no</td>\n",
       "      <td>no</td>\n",
       "      <td>273.45</td>\n",
       "      <td>9.3</td>\n",
       "      <td>30.99</td>\n",
       "      <td>116</td>\n",
       "      <td>3</td>\n",
       "      <td>3.0</td>\n",
       "      <td>1</td>\n",
       "      <td>0</td>\n",
       "    </tr>\n",
       "    <tr>\n",
       "      <th>1917</th>\n",
       "      <td>Male</td>\n",
       "      <td>37</td>\n",
       "      <td>73</td>\n",
       "      <td>no</td>\n",
       "      <td>no</td>\n",
       "      <td>326.70</td>\n",
       "      <td>10.3</td>\n",
       "      <td>37.03</td>\n",
       "      <td>89</td>\n",
       "      <td>6</td>\n",
       "      <td>3.0</td>\n",
       "      <td>1</td>\n",
       "      <td>1</td>\n",
       "    </tr>\n",
       "  </tbody>\n",
       "</table>\n",
       "<p>1918 rows × 13 columns</p>\n",
       "</div>"
      ],
      "text/plain": [
       "      gender  age  no_of_days_subscribed multi_screen mail_subscribed  \\\n",
       "0     Female   36                     62           no              no   \n",
       "1     Female   39                    149           no              no   \n",
       "2     Female   65                    126           no              no   \n",
       "3     Female   24                    131           no             yes   \n",
       "4     Female   40                    191           no              no   \n",
       "...      ...  ...                    ...          ...             ...   \n",
       "1913    Male   32                     61           no              no   \n",
       "1914    Male   49                     50          yes             yes   \n",
       "1915  Female   42                    119           no             yes   \n",
       "1916    Male   45                    127           no              no   \n",
       "1917    Male   37                     73           no              no   \n",
       "\n",
       "      weekly_mins_watched  minimum_daily_mins  maximum_daily_mins  \\\n",
       "0                  148.35                12.2               16.81   \n",
       "1                  294.45                 7.7               33.37   \n",
       "2                   87.30                11.9                9.89   \n",
       "3                  321.30                 9.5               36.41   \n",
       "4                  243.00                10.9               27.54   \n",
       "...                   ...                 ...                 ...   \n",
       "1913                67.50                 9.8                7.65   \n",
       "1914               460.65                 8.0               52.21   \n",
       "1915               176.70                 7.6               20.03   \n",
       "1916               273.45                 9.3               30.99   \n",
       "1917               326.70                10.3               37.03   \n",
       "\n",
       "      weekly_max_night_mins  videos_watched  maximum_days_inactive  \\\n",
       "0                        82               1                    4.0   \n",
       "1                        87               3                    3.0   \n",
       "2                        91               1                    4.0   \n",
       "3                       102               4                    3.0   \n",
       "4                        83               7                    3.0   \n",
       "...                     ...             ...                    ...   \n",
       "1913                     94               6                    3.0   \n",
       "1914                    109               3                    3.0   \n",
       "1915                     76               3                    3.0   \n",
       "1916                    116               3                    3.0   \n",
       "1917                     89               6                    3.0   \n",
       "\n",
       "      customer_support_calls  churn  \n",
       "0                          1      0  \n",
       "1                          2      0  \n",
       "2                          5      1  \n",
       "3                          3      0  \n",
       "4                          1      0  \n",
       "...                      ...    ...  \n",
       "1913                       2      0  \n",
       "1914                       0      0  \n",
       "1915                       3      0  \n",
       "1916                       1      0  \n",
       "1917                       1      1  \n",
       "\n",
       "[1918 rows x 13 columns]"
      ]
     },
     "execution_count": 15,
     "metadata": {},
     "output_type": "execute_result"
    }
   ],
   "source": [
    "df"
   ]
  },
  {
   "cell_type": "code",
   "execution_count": 16,
   "id": "f44f14f5",
   "metadata": {},
   "outputs": [
    {
     "data": {
      "text/plain": [
       "churn\n",
       "0    1665\n",
       "1     253\n",
       "Name: count, dtype: int64"
      ]
     },
     "execution_count": 16,
     "metadata": {},
     "output_type": "execute_result"
    }
   ],
   "source": [
    "df['churn'].value_counts()"
   ]
  },
  {
   "cell_type": "code",
   "execution_count": 17,
   "id": "ccf4e82d",
   "metadata": {},
   "outputs": [
    {
     "data": {
      "image/png": "[encoded data removed]",
      "text/plain": [
       "<Figure size 640x480 with 1 Axes>"
      ]
     },
     "metadata": {},
     "output_type": "display_data"
    },
    {
     "data": {
      "image/png": "[encoded data removed]",
      "text/plain": [
       "<Figure size 640x480 with 1 Axes>"
      ]
     },
     "metadata": {},
     "output_type": "display_data"
    },
    {
     "data": {
      "image/png": "[encoded data removed]",
      "text/plain": [
       "<Figure size 640x480 with 1 Axes>"
      ]
     },
     "metadata": {},
     "output_type": "display_data"
    },
    {
     "data": {
      "image/png": "[encoded data removed]",
      "text/plain": [
       "<Figure size 640x480 with 1 Axes>"
      ]
     },
     "metadata": {},
     "output_type": "display_data"
    },
    {
     "data": {
      "image/png": "[encoded data removed]",
      "text/plain": [
       "<Figure size 640x480 with 1 Axes>"
      ]
     },
     "metadata": {},
     "output_type": "display_data"
    },
    {
     "data": {
      "image/png": "[encoded data removed]",
      "text/plain": [
       "<Figure size 640x480 with 1 Axes>"
      ]
     },
     "metadata": {},
     "output_type": "display_data"
    },
    {
     "data": {
      "image/png": "[encoded data removed]",
      "text/plain": [
       "<Figure size 640x480 with 1 Axes>"
      ]
     },
     "metadata": {},
     "output_type": "display_data"
    },
    {
     "data": {
      "image/png": "[encoded data removed]",
      "text/plain": [
       "<Figure size 640x480 with 1 Axes>"
      ]
     },
     "metadata": {},
     "output_type": "display_data"
    },
    {
     "data": {
      "image/png": "[encoded data removed]",
      "text/plain": [
       "<Figure size 640x480 with 1 Axes>"
      ]
     },
     "metadata": {},
     "output_type": "display_data"
    }
   ],
   "source": [
    "num_col = df.select_dtypes(exclude='object').columns.to_list()\n",
    "\n",
    "for col_name in num_col[:-1]:\n",
    "    sns.boxplot(x=df[col_name], orient='h')\n",
    "    plt.title(col_name)\n",
    "    plt.show()"
   ]
  },
  {
   "cell_type": "code",
   "execution_count": 18,
   "id": "26eb1b2b",
   "metadata": {},
   "outputs": [
    {
     "data": {
      "text/plain": [
       "churn\n",
       "0    1665\n",
       "1     253\n",
       "Name: count, dtype: int64"
      ]
     },
     "execution_count": 18,
     "metadata": {},
     "output_type": "execute_result"
    }
   ],
   "source": [
    "df['churn'].value_counts()"
   ]
  },
  {
   "cell_type": "code",
   "execution_count": 19,
   "id": "eadee572",
   "metadata": {},
   "outputs": [],
   "source": [
    "def capping_outliers(col_name):\n",
    "    # calculate q1 and q3 quartile using numpy\n",
    "    q1 = np.percentile(df[col_name],25)\n",
    "    q3 = np.percentile(df[col_name],75)\n",
    "\n",
    "    iqr = q3-q1\n",
    "    #LB & UB\n",
    "    LB = q1 - 1.5 * iqr\n",
    "    UB = q3 + 1.5 * iqr\n",
    "    \n",
    "    # capp\n",
    "    df[col_name]= np.clip(df[col_name],LB,UB)\n",
    "\n",
    "    # return df\n",
    "\n",
    "for col_name in num_col[:-1]:\n",
    "    capping_outliers(col_name)"
   ]
  },
  {
   "cell_type": "code",
   "execution_count": 20,
   "id": "29b30515",
   "metadata": {},
   "outputs": [
    {
     "data": {
      "image/png": "[encoded data removed]",
      "text/plain": [
       "<Figure size 640x480 with 1 Axes>"
      ]
     },
     "metadata": {},
     "output_type": "display_data"
    },
    {
     "data": {
      "image/png": "[encoded data removed]",
      "text/plain": [
       "<Figure size 640x480 with 1 Axes>"
      ]
     },
     "metadata": {},
     "output_type": "display_data"
    },
    {
     "data": {
      "image/png": "[encoded data removed]",
      "text/plain": [
       "<Figure size 640x480 with 1 Axes>"
      ]
     },
     "metadata": {},
     "output_type": "display_data"
    },
    {
     "data": {
      "image/png": "[encoded data removed]",
      "text/plain": [
       "<Figure size 640x480 with 1 Axes>"
      ]
     },
     "metadata": {},
     "output_type": "display_data"
    },
    {
     "data": {
      "image/png": "[encoded data removed]",
      "text/plain": [
       "<Figure size 640x480 with 1 Axes>"
      ]
     },
     "metadata": {},
     "output_type": "display_data"
    },
    {
     "data": {
      "image/png": "[encoded data removed]",
      "text/plain": [
       "<Figure size 640x480 with 1 Axes>"
      ]
     },
     "metadata": {},
     "output_type": "display_data"
    },
    {
     "data": {
      "image/png": "[encoded data removed]",
      "text/plain": [
       "<Figure size 640x480 with 1 Axes>"
      ]
     },
     "metadata": {},
     "output_type": "display_data"
    },
    {
     "data": {
      "image/png": "[encoded data removed]",
      "text/plain": [
       "<Figure size 640x480 with 1 Axes>"
      ]
     },
     "metadata": {},
     "output_type": "display_data"
    },
    {
     "data": {
      "image/png": "[encoded data removed]",
      "text/plain": [
       "<Figure size 640x480 with 1 Axes>"
      ]
     },
     "metadata": {},
     "output_type": "display_data"
    }
   ],
   "source": [
    "# num_col = df.select_dtypes(exclude='object').columns.to_list()\n",
    "\n",
    "for col_name in num_col[:-1]:\n",
    "    sns.boxplot(x=df[col_name], orient='h')\n",
    "    plt.title(col_name)\n",
    "    plt.show()"
   ]
  },
  {
   "cell_type": "code",
   "execution_count": 21,
   "id": "5e7ad7f5",
   "metadata": {},
   "outputs": [
    {
     "name": "stdout",
     "output_type": "stream",
     "text": [
      "age has 0 outliers\n",
      "no_of_days_subscribed has 0 outliers\n",
      "weekly_mins_watched has 0 outliers\n",
      "minimum_daily_mins has 0 outliers\n",
      "maximum_daily_mins has 0 outliers\n",
      "weekly_max_night_mins has 0 outliers\n",
      "videos_watched has 0 outliers\n",
      "maximum_days_inactive has 0 outliers\n",
      "customer_support_calls has 0 outliers\n",
      "churn has 253 outliers\n"
     ]
    }
   ],
   "source": [
    "def outliers(col):\n",
    "    Q1=np.quantile(df[col],0.25)\n",
    "    Q2=np.quantile(df[col],0.5)\n",
    "    Q3=np.quantile(df[col],0.75)\n",
    "    IQR = (Q3-Q1)\n",
    "    UB = Q3 + 1.5*IQR\n",
    "    LB = Q1 - 1.5*IQR\n",
    "    con1 = df[col] > UB\n",
    "    con2 = df[col] < LB\n",
    "    outliers_df=df[con1|con2]\n",
    "    len(outliers_df)\n",
    "    print(f'{col} has {len(outliers_df)} outliers' )\n",
    "    \n",
    "num_col= df.select_dtypes(exclude='object').columns\n",
    "for col in num_col:\n",
    "    outliers(col)"
   ]
  },
  {
   "cell_type": "code",
   "execution_count": 22,
   "id": "cabf65b0",
   "metadata": {},
   "outputs": [
    {
     "data": {
      "text/plain": [
       "churn\n",
       "0    1665\n",
       "1     253\n",
       "Name: count, dtype: int64"
      ]
     },
     "execution_count": 22,
     "metadata": {},
     "output_type": "execute_result"
    }
   ],
   "source": [
    "df['churn'].value_counts()"
   ]
  },
  {
   "cell_type": "code",
   "execution_count": 23,
   "id": "05cdd48d",
   "metadata": {},
   "outputs": [
    {
     "data": {
      "text/html": [
       "<div>\n",
       "<style scoped>\n",
       "    .dataframe tbody tr th:only-of-type {\n",
       "        vertical-align: middle;\n",
       "    }\n",
       "\n",
       "    .dataframe tbody tr th {\n",
       "        vertical-align: top;\n",
       "    }\n",
       "\n",
       "    .dataframe thead th {\n",
       "        text-align: right;\n",
       "    }\n",
       "</style>\n",
       "<table border=\"1\" class=\"dataframe\">\n",
       "  <thead>\n",
       "    <tr style=\"text-align: right;\">\n",
       "      <th></th>\n",
       "      <th>gender</th>\n",
       "      <th>age</th>\n",
       "      <th>no_of_days_subscribed</th>\n",
       "      <th>multi_screen</th>\n",
       "      <th>mail_subscribed</th>\n",
       "      <th>weekly_mins_watched</th>\n",
       "      <th>minimum_daily_mins</th>\n",
       "      <th>maximum_daily_mins</th>\n",
       "      <th>weekly_max_night_mins</th>\n",
       "      <th>videos_watched</th>\n",
       "      <th>maximum_days_inactive</th>\n",
       "      <th>customer_support_calls</th>\n",
       "      <th>churn</th>\n",
       "    </tr>\n",
       "  </thead>\n",
       "  <tbody>\n",
       "    <tr>\n",
       "      <th>0</th>\n",
       "      <td>Female</td>\n",
       "      <td>36.0</td>\n",
       "      <td>62</td>\n",
       "      <td>no</td>\n",
       "      <td>no</td>\n",
       "      <td>148.35</td>\n",
       "      <td>12.2</td>\n",
       "      <td>16.81</td>\n",
       "      <td>82.0</td>\n",
       "      <td>1.0</td>\n",
       "      <td>4.0</td>\n",
       "      <td>1.0</td>\n",
       "      <td>0</td>\n",
       "    </tr>\n",
       "    <tr>\n",
       "      <th>1</th>\n",
       "      <td>Female</td>\n",
       "      <td>39.0</td>\n",
       "      <td>149</td>\n",
       "      <td>no</td>\n",
       "      <td>no</td>\n",
       "      <td>294.45</td>\n",
       "      <td>7.7</td>\n",
       "      <td>33.37</td>\n",
       "      <td>87.0</td>\n",
       "      <td>3.0</td>\n",
       "      <td>3.0</td>\n",
       "      <td>2.0</td>\n",
       "      <td>0</td>\n",
       "    </tr>\n",
       "  </tbody>\n",
       "</table>\n",
       "</div>"
      ],
      "text/plain": [
       "   gender   age  no_of_days_subscribed multi_screen mail_subscribed  \\\n",
       "0  Female  36.0                     62           no              no   \n",
       "1  Female  39.0                    149           no              no   \n",
       "\n",
       "   weekly_mins_watched  minimum_daily_mins  maximum_daily_mins  \\\n",
       "0               148.35                12.2               16.81   \n",
       "1               294.45                 7.7               33.37   \n",
       "\n",
       "   weekly_max_night_mins  videos_watched  maximum_days_inactive  \\\n",
       "0                   82.0             1.0                    4.0   \n",
       "1                   87.0             3.0                    3.0   \n",
       "\n",
       "   customer_support_calls  churn  \n",
       "0                     1.0      0  \n",
       "1                     2.0      0  "
      ]
     },
     "execution_count": 23,
     "metadata": {},
     "output_type": "execute_result"
    }
   ],
   "source": [
    "df.head(2)"
   ]
  },
  {
   "cell_type": "code",
   "execution_count": 24,
   "id": "0ddf373b",
   "metadata": {},
   "outputs": [],
   "source": [
    "#use label encoder for converting categorical values into numrical\n",
    "from sklearn.preprocessing import LabelEncoder\n",
    "cat_cols = df.select_dtypes(include=\"object\").columns.to_list()\n",
    "df[cat_cols]=df[cat_cols].apply(LabelEncoder().fit_transform)"
   ]
  },
  {
   "cell_type": "code",
   "execution_count": 25,
   "id": "0afd769b",
   "metadata": {},
   "outputs": [
    {
     "data": {
      "text/html": [
       "<div>\n",
       "<style scoped>\n",
       "    .dataframe tbody tr th:only-of-type {\n",
       "        vertical-align: middle;\n",
       "    }\n",
       "\n",
       "    .dataframe tbody tr th {\n",
       "        vertical-align: top;\n",
       "    }\n",
       "\n",
       "    .dataframe thead th {\n",
       "        text-align: right;\n",
       "    }\n",
       "</style>\n",
       "<table border=\"1\" class=\"dataframe\">\n",
       "  <thead>\n",
       "    <tr style=\"text-align: right;\">\n",
       "      <th></th>\n",
       "      <th>gender</th>\n",
       "      <th>age</th>\n",
       "      <th>no_of_days_subscribed</th>\n",
       "      <th>multi_screen</th>\n",
       "      <th>mail_subscribed</th>\n",
       "      <th>weekly_mins_watched</th>\n",
       "      <th>minimum_daily_mins</th>\n",
       "      <th>maximum_daily_mins</th>\n",
       "      <th>weekly_max_night_mins</th>\n",
       "      <th>videos_watched</th>\n",
       "      <th>maximum_days_inactive</th>\n",
       "      <th>customer_support_calls</th>\n",
       "      <th>churn</th>\n",
       "    </tr>\n",
       "  </thead>\n",
       "  <tbody>\n",
       "    <tr>\n",
       "      <th>0</th>\n",
       "      <td>0</td>\n",
       "      <td>36.0</td>\n",
       "      <td>62</td>\n",
       "      <td>0</td>\n",
       "      <td>0</td>\n",
       "      <td>148.35</td>\n",
       "      <td>12.2</td>\n",
       "      <td>16.81</td>\n",
       "      <td>82.0</td>\n",
       "      <td>1.0</td>\n",
       "      <td>4.0</td>\n",
       "      <td>1.0</td>\n",
       "      <td>0</td>\n",
       "    </tr>\n",
       "    <tr>\n",
       "      <th>1</th>\n",
       "      <td>0</td>\n",
       "      <td>39.0</td>\n",
       "      <td>149</td>\n",
       "      <td>0</td>\n",
       "      <td>0</td>\n",
       "      <td>294.45</td>\n",
       "      <td>7.7</td>\n",
       "      <td>33.37</td>\n",
       "      <td>87.0</td>\n",
       "      <td>3.0</td>\n",
       "      <td>3.0</td>\n",
       "      <td>2.0</td>\n",
       "      <td>0</td>\n",
       "    </tr>\n",
       "  </tbody>\n",
       "</table>\n",
       "</div>"
      ],
      "text/plain": [
       "   gender   age  no_of_days_subscribed  multi_screen  mail_subscribed  \\\n",
       "0       0  36.0                     62             0                0   \n",
       "1       0  39.0                    149             0                0   \n",
       "\n",
       "   weekly_mins_watched  minimum_daily_mins  maximum_daily_mins  \\\n",
       "0               148.35                12.2               16.81   \n",
       "1               294.45                 7.7               33.37   \n",
       "\n",
       "   weekly_max_night_mins  videos_watched  maximum_days_inactive  \\\n",
       "0                   82.0             1.0                    4.0   \n",
       "1                   87.0             3.0                    3.0   \n",
       "\n",
       "   customer_support_calls  churn  \n",
       "0                     1.0      0  \n",
       "1                     2.0      0  "
      ]
     },
     "execution_count": 25,
     "metadata": {},
     "output_type": "execute_result"
    }
   ],
   "source": [
    "df.head(2)"
   ]
  },
  {
   "cell_type": "code",
   "execution_count": 26,
   "id": "6d752b99",
   "metadata": {},
   "outputs": [],
   "source": [
    "# df.to_csv(\"churn_label.csv\",index=False)"
   ]
  },
  {
   "cell_type": "code",
   "execution_count": 27,
   "id": "6d3ac3a0",
   "metadata": {},
   "outputs": [],
   "source": [
    "# Perform the ML Decision tree ,Logistic regression ,KNN and Random forest  with out hyper parameter tuning"
   ]
  },
  {
   "cell_type": "code",
   "execution_count": 28,
   "id": "37446b2a",
   "metadata": {},
   "outputs": [],
   "source": [
    "# standardize and normalize the data \n",
    "from sklearn.preprocessing import StandardScaler,MinMaxScaler\n"
   ]
  },
  {
   "cell_type": "code",
   "execution_count": 29,
   "id": "9a35952c",
   "metadata": {},
   "outputs": [],
   "source": [
    "# standardize the data \n",
    "\n",
    "scaler = StandardScaler()\n",
    "cols_to_standarize = df.columns[:-1]\n",
    "scaler.fit(df[cols_to_standarize])\n",
    "# df[cols_to_standarize] = df[cols_to_standarize].apply(lambda x: (x - x.mean()) / x.std())\n",
    "df[cols_to_standarize] = scaler.transform(df[cols_to_standarize])"
   ]
  },
  {
   "cell_type": "code",
   "execution_count": 30,
   "id": "1642edd2",
   "metadata": {},
   "outputs": [
    {
     "data": {
      "text/html": [
       "<div>\n",
       "<style scoped>\n",
       "    .dataframe tbody tr th:only-of-type {\n",
       "        vertical-align: middle;\n",
       "    }\n",
       "\n",
       "    .dataframe tbody tr th {\n",
       "        vertical-align: top;\n",
       "    }\n",
       "\n",
       "    .dataframe thead th {\n",
       "        text-align: right;\n",
       "    }\n",
       "</style>\n",
       "<table border=\"1\" class=\"dataframe\">\n",
       "  <thead>\n",
       "    <tr style=\"text-align: right;\">\n",
       "      <th></th>\n",
       "      <th>gender</th>\n",
       "      <th>age</th>\n",
       "      <th>no_of_days_subscribed</th>\n",
       "      <th>multi_screen</th>\n",
       "      <th>mail_subscribed</th>\n",
       "      <th>weekly_mins_watched</th>\n",
       "      <th>minimum_daily_mins</th>\n",
       "      <th>maximum_daily_mins</th>\n",
       "      <th>weekly_max_night_mins</th>\n",
       "      <th>videos_watched</th>\n",
       "      <th>maximum_days_inactive</th>\n",
       "      <th>customer_support_calls</th>\n",
       "      <th>churn</th>\n",
       "    </tr>\n",
       "  </thead>\n",
       "  <tbody>\n",
       "    <tr>\n",
       "      <th>0</th>\n",
       "      <td>-1.066883</td>\n",
       "      <td>-0.252273</td>\n",
       "      <td>-0.957286</td>\n",
       "      <td>-0.335453</td>\n",
       "      <td>-0.631648</td>\n",
       "      <td>-1.524047</td>\n",
       "      <td>0.741118</td>\n",
       "      <td>-1.524463</td>\n",
       "      <td>-0.943253</td>\n",
       "      <td>-1.499525</td>\n",
       "      <td>0.960545</td>\n",
       "      <td>-0.415743</td>\n",
       "      <td>0</td>\n",
       "    </tr>\n",
       "    <tr>\n",
       "      <th>1</th>\n",
       "      <td>-1.066883</td>\n",
       "      <td>0.069906</td>\n",
       "      <td>1.235057</td>\n",
       "      <td>-0.335453</td>\n",
       "      <td>-0.631648</td>\n",
       "      <td>0.306540</td>\n",
       "      <td>-0.920852</td>\n",
       "      <td>0.306373</td>\n",
       "      <td>-0.686820</td>\n",
       "      <td>-0.624736</td>\n",
       "      <td>-0.331861</td>\n",
       "      <td>0.491418</td>\n",
       "      <td>0</td>\n",
       "    </tr>\n",
       "  </tbody>\n",
       "</table>\n",
       "</div>"
      ],
      "text/plain": [
       "     gender       age  no_of_days_subscribed  multi_screen  mail_subscribed  \\\n",
       "0 -1.066883 -0.252273              -0.957286     -0.335453        -0.631648   \n",
       "1 -1.066883  0.069906               1.235057     -0.335453        -0.631648   \n",
       "\n",
       "   weekly_mins_watched  minimum_daily_mins  maximum_daily_mins  \\\n",
       "0            -1.524047            0.741118           -1.524463   \n",
       "1             0.306540           -0.920852            0.306373   \n",
       "\n",
       "   weekly_max_night_mins  videos_watched  maximum_days_inactive  \\\n",
       "0              -0.943253       -1.499525               0.960545   \n",
       "1              -0.686820       -0.624736              -0.331861   \n",
       "\n",
       "   customer_support_calls  churn  \n",
       "0               -0.415743      0  \n",
       "1                0.491418      0  "
      ]
     },
     "execution_count": 30,
     "metadata": {},
     "output_type": "execute_result"
    }
   ],
   "source": [
    "df.head(2)"
   ]
  },
  {
   "cell_type": "code",
   "execution_count": 31,
   "id": "85f2b327",
   "metadata": {},
   "outputs": [],
   "source": [
    "# df.to_csv('churn_standard.csv',index=False)"
   ]
  },
  {
   "cell_type": "code",
   "execution_count": 32,
   "id": "48b179bb",
   "metadata": {},
   "outputs": [],
   "source": [
    "# # normalize the data \n",
    "\n",
    "# normal = MinMaxScaler()\n",
    "# cols_to_normalize = df.columns[:-1]\n",
    "# normal.fit(df[cols_to_normalize])\n",
    "# df[cols_to_normalize] = normal.transform(df[cols_to_normalize])\n"
   ]
  },
  {
   "cell_type": "code",
   "execution_count": 33,
   "id": "c69ed68d",
   "metadata": {},
   "outputs": [],
   "source": [
    "# df.to_csv(\"churn_normal.csv\",index=False)"
   ]
  },
  {
   "cell_type": "code",
   "execution_count": 34,
   "id": "8e3fbe0e",
   "metadata": {},
   "outputs": [
    {
     "data": {
      "text/html": [
       "<div>\n",
       "<style scoped>\n",
       "    .dataframe tbody tr th:only-of-type {\n",
       "        vertical-align: middle;\n",
       "    }\n",
       "\n",
       "    .dataframe tbody tr th {\n",
       "        vertical-align: top;\n",
       "    }\n",
       "\n",
       "    .dataframe thead th {\n",
       "        text-align: right;\n",
       "    }\n",
       "</style>\n",
       "<table border=\"1\" class=\"dataframe\">\n",
       "  <thead>\n",
       "    <tr style=\"text-align: right;\">\n",
       "      <th></th>\n",
       "      <th>gender</th>\n",
       "      <th>age</th>\n",
       "      <th>no_of_days_subscribed</th>\n",
       "      <th>multi_screen</th>\n",
       "      <th>mail_subscribed</th>\n",
       "      <th>weekly_mins_watched</th>\n",
       "      <th>minimum_daily_mins</th>\n",
       "      <th>maximum_daily_mins</th>\n",
       "      <th>weekly_max_night_mins</th>\n",
       "      <th>videos_watched</th>\n",
       "      <th>maximum_days_inactive</th>\n",
       "      <th>customer_support_calls</th>\n",
       "      <th>churn</th>\n",
       "    </tr>\n",
       "  </thead>\n",
       "  <tbody>\n",
       "    <tr>\n",
       "      <th>0</th>\n",
       "      <td>-1.066883</td>\n",
       "      <td>-0.252273</td>\n",
       "      <td>-0.957286</td>\n",
       "      <td>-0.335453</td>\n",
       "      <td>-0.631648</td>\n",
       "      <td>-1.524047</td>\n",
       "      <td>0.741118</td>\n",
       "      <td>-1.524463</td>\n",
       "      <td>-0.943253</td>\n",
       "      <td>-1.499525</td>\n",
       "      <td>0.960545</td>\n",
       "      <td>-0.415743</td>\n",
       "      <td>0</td>\n",
       "    </tr>\n",
       "    <tr>\n",
       "      <th>1</th>\n",
       "      <td>-1.066883</td>\n",
       "      <td>0.069906</td>\n",
       "      <td>1.235057</td>\n",
       "      <td>-0.335453</td>\n",
       "      <td>-0.631648</td>\n",
       "      <td>0.306540</td>\n",
       "      <td>-0.920852</td>\n",
       "      <td>0.306373</td>\n",
       "      <td>-0.686820</td>\n",
       "      <td>-0.624736</td>\n",
       "      <td>-0.331861</td>\n",
       "      <td>0.491418</td>\n",
       "      <td>0</td>\n",
       "    </tr>\n",
       "  </tbody>\n",
       "</table>\n",
       "</div>"
      ],
      "text/plain": [
       "     gender       age  no_of_days_subscribed  multi_screen  mail_subscribed  \\\n",
       "0 -1.066883 -0.252273              -0.957286     -0.335453        -0.631648   \n",
       "1 -1.066883  0.069906               1.235057     -0.335453        -0.631648   \n",
       "\n",
       "   weekly_mins_watched  minimum_daily_mins  maximum_daily_mins  \\\n",
       "0            -1.524047            0.741118           -1.524463   \n",
       "1             0.306540           -0.920852            0.306373   \n",
       "\n",
       "   weekly_max_night_mins  videos_watched  maximum_days_inactive  \\\n",
       "0              -0.943253       -1.499525               0.960545   \n",
       "1              -0.686820       -0.624736              -0.331861   \n",
       "\n",
       "   customer_support_calls  churn  \n",
       "0               -0.415743      0  \n",
       "1                0.491418      0  "
      ]
     },
     "execution_count": 34,
     "metadata": {},
     "output_type": "execute_result"
    }
   ],
   "source": [
    "df.head(2)"
   ]
  },
  {
   "cell_type": "markdown",
   "id": "1ccd9379",
   "metadata": {},
   "source": [
    "# Model Developement without Hyperparameter"
   ]
  },
  {
   "cell_type": "code",
   "execution_count": 35,
   "id": "f4749c45",
   "metadata": {},
   "outputs": [],
   "source": [
    "# input output data \n",
    "x = df.drop(columns='churn')\n",
    "y = df['churn']"
   ]
  },
  {
   "cell_type": "code",
   "execution_count": null,
   "id": "728bf624",
   "metadata": {},
   "outputs": [],
   "source": []
  },
  {
   "cell_type": "code",
   "execution_count": 36,
   "id": "a56ed527",
   "metadata": {},
   "outputs": [
    {
     "data": {
      "text/html": [
       "<div>\n",
       "<style scoped>\n",
       "    .dataframe tbody tr th:only-of-type {\n",
       "        vertical-align: middle;\n",
       "    }\n",
       "\n",
       "    .dataframe tbody tr th {\n",
       "        vertical-align: top;\n",
       "    }\n",
       "\n",
       "    .dataframe thead th {\n",
       "        text-align: right;\n",
       "    }\n",
       "</style>\n",
       "<table border=\"1\" class=\"dataframe\">\n",
       "  <thead>\n",
       "    <tr style=\"text-align: right;\">\n",
       "      <th></th>\n",
       "      <th>gender</th>\n",
       "      <th>age</th>\n",
       "      <th>no_of_days_subscribed</th>\n",
       "      <th>multi_screen</th>\n",
       "      <th>mail_subscribed</th>\n",
       "      <th>weekly_mins_watched</th>\n",
       "      <th>minimum_daily_mins</th>\n",
       "      <th>maximum_daily_mins</th>\n",
       "      <th>weekly_max_night_mins</th>\n",
       "      <th>videos_watched</th>\n",
       "      <th>maximum_days_inactive</th>\n",
       "      <th>customer_support_calls</th>\n",
       "    </tr>\n",
       "  </thead>\n",
       "  <tbody>\n",
       "    <tr>\n",
       "      <th>0</th>\n",
       "      <td>-1.066883</td>\n",
       "      <td>-0.252273</td>\n",
       "      <td>-0.957286</td>\n",
       "      <td>-0.335453</td>\n",
       "      <td>-0.631648</td>\n",
       "      <td>-1.524047</td>\n",
       "      <td>0.741118</td>\n",
       "      <td>-1.524463</td>\n",
       "      <td>-0.943253</td>\n",
       "      <td>-1.499525</td>\n",
       "      <td>0.960545</td>\n",
       "      <td>-0.415743</td>\n",
       "    </tr>\n",
       "    <tr>\n",
       "      <th>1</th>\n",
       "      <td>-1.066883</td>\n",
       "      <td>0.069906</td>\n",
       "      <td>1.235057</td>\n",
       "      <td>-0.335453</td>\n",
       "      <td>-0.631648</td>\n",
       "      <td>0.306540</td>\n",
       "      <td>-0.920852</td>\n",
       "      <td>0.306373</td>\n",
       "      <td>-0.686820</td>\n",
       "      <td>-0.624736</td>\n",
       "      <td>-0.331861</td>\n",
       "      <td>0.491418</td>\n",
       "    </tr>\n",
       "    <tr>\n",
       "      <th>2</th>\n",
       "      <td>-1.066883</td>\n",
       "      <td>2.271467</td>\n",
       "      <td>0.655472</td>\n",
       "      <td>-0.335453</td>\n",
       "      <td>-0.631648</td>\n",
       "      <td>-2.288984</td>\n",
       "      <td>0.630320</td>\n",
       "      <td>-2.289522</td>\n",
       "      <td>-0.481674</td>\n",
       "      <td>-1.499525</td>\n",
       "      <td>0.960545</td>\n",
       "      <td>1.852161</td>\n",
       "    </tr>\n",
       "    <tr>\n",
       "      <th>3</th>\n",
       "      <td>-1.066883</td>\n",
       "      <td>-1.540992</td>\n",
       "      <td>0.781469</td>\n",
       "      <td>-0.335453</td>\n",
       "      <td>1.583161</td>\n",
       "      <td>0.642962</td>\n",
       "      <td>-0.256064</td>\n",
       "      <td>0.642468</td>\n",
       "      <td>0.082478</td>\n",
       "      <td>-0.187341</td>\n",
       "      <td>-0.331861</td>\n",
       "      <td>1.398580</td>\n",
       "    </tr>\n",
       "    <tr>\n",
       "      <th>4</th>\n",
       "      <td>-1.066883</td>\n",
       "      <td>0.177300</td>\n",
       "      <td>2.293430</td>\n",
       "      <td>-0.335453</td>\n",
       "      <td>-0.631648</td>\n",
       "      <td>-0.338112</td>\n",
       "      <td>0.260993</td>\n",
       "      <td>-0.338178</td>\n",
       "      <td>-0.891967</td>\n",
       "      <td>1.124843</td>\n",
       "      <td>-0.331861</td>\n",
       "      <td>-0.415743</td>\n",
       "    </tr>\n",
       "    <tr>\n",
       "      <th>...</th>\n",
       "      <td>...</td>\n",
       "      <td>...</td>\n",
       "      <td>...</td>\n",
       "      <td>...</td>\n",
       "      <td>...</td>\n",
       "      <td>...</td>\n",
       "      <td>...</td>\n",
       "      <td>...</td>\n",
       "      <td>...</td>\n",
       "      <td>...</td>\n",
       "      <td>...</td>\n",
       "      <td>...</td>\n",
       "    </tr>\n",
       "    <tr>\n",
       "      <th>1913</th>\n",
       "      <td>0.937310</td>\n",
       "      <td>-0.681846</td>\n",
       "      <td>-0.982486</td>\n",
       "      <td>-0.335453</td>\n",
       "      <td>-0.631648</td>\n",
       "      <td>-2.537072</td>\n",
       "      <td>-0.145266</td>\n",
       "      <td>-2.537171</td>\n",
       "      <td>-0.327814</td>\n",
       "      <td>0.687449</td>\n",
       "      <td>-0.331861</td>\n",
       "      <td>0.491418</td>\n",
       "    </tr>\n",
       "    <tr>\n",
       "      <th>1914</th>\n",
       "      <td>0.937310</td>\n",
       "      <td>1.143838</td>\n",
       "      <td>-1.259679</td>\n",
       "      <td>2.981040</td>\n",
       "      <td>1.583161</td>\n",
       "      <td>2.388974</td>\n",
       "      <td>-0.810054</td>\n",
       "      <td>2.389280</td>\n",
       "      <td>0.441484</td>\n",
       "      <td>-0.624736</td>\n",
       "      <td>-0.331861</td>\n",
       "      <td>-1.322904</td>\n",
       "    </tr>\n",
       "    <tr>\n",
       "      <th>1915</th>\n",
       "      <td>-1.066883</td>\n",
       "      <td>0.392086</td>\n",
       "      <td>0.479077</td>\n",
       "      <td>-0.335453</td>\n",
       "      <td>1.583161</td>\n",
       "      <td>-1.168830</td>\n",
       "      <td>-0.957785</td>\n",
       "      <td>-1.168467</td>\n",
       "      <td>-1.250973</td>\n",
       "      <td>-0.624736</td>\n",
       "      <td>-0.331861</td>\n",
       "      <td>1.398580</td>\n",
       "    </tr>\n",
       "    <tr>\n",
       "      <th>1916</th>\n",
       "      <td>0.937310</td>\n",
       "      <td>0.714266</td>\n",
       "      <td>0.680672</td>\n",
       "      <td>-0.335453</td>\n",
       "      <td>-0.631648</td>\n",
       "      <td>0.043417</td>\n",
       "      <td>-0.329929</td>\n",
       "      <td>0.043246</td>\n",
       "      <td>0.800490</td>\n",
       "      <td>-0.624736</td>\n",
       "      <td>-0.331861</td>\n",
       "      <td>-0.415743</td>\n",
       "    </tr>\n",
       "    <tr>\n",
       "      <th>1917</th>\n",
       "      <td>0.937310</td>\n",
       "      <td>-0.144880</td>\n",
       "      <td>-0.680093</td>\n",
       "      <td>-0.335453</td>\n",
       "      <td>-0.631648</td>\n",
       "      <td>0.710623</td>\n",
       "      <td>0.039397</td>\n",
       "      <td>0.711014</td>\n",
       "      <td>-0.584247</td>\n",
       "      <td>0.687449</td>\n",
       "      <td>-0.331861</td>\n",
       "      <td>-0.415743</td>\n",
       "    </tr>\n",
       "  </tbody>\n",
       "</table>\n",
       "<p>1918 rows × 12 columns</p>\n",
       "</div>"
      ],
      "text/plain": [
       "        gender       age  no_of_days_subscribed  multi_screen  \\\n",
       "0    -1.066883 -0.252273              -0.957286     -0.335453   \n",
       "1    -1.066883  0.069906               1.235057     -0.335453   \n",
       "2    -1.066883  2.271467               0.655472     -0.335453   \n",
       "3    -1.066883 -1.540992               0.781469     -0.335453   \n",
       "4    -1.066883  0.177300               2.293430     -0.335453   \n",
       "...        ...       ...                    ...           ...   \n",
       "1913  0.937310 -0.681846              -0.982486     -0.335453   \n",
       "1914  0.937310  1.143838              -1.259679      2.981040   \n",
       "1915 -1.066883  0.392086               0.479077     -0.335453   \n",
       "1916  0.937310  0.714266               0.680672     -0.335453   \n",
       "1917  0.937310 -0.144880              -0.680093     -0.335453   \n",
       "\n",
       "      mail_subscribed  weekly_mins_watched  minimum_daily_mins  \\\n",
       "0           -0.631648            -1.524047            0.741118   \n",
       "1           -0.631648             0.306540           -0.920852   \n",
       "2           -0.631648            -2.288984            0.630320   \n",
       "3            1.583161             0.642962           -0.256064   \n",
       "4           -0.631648            -0.338112            0.260993   \n",
       "...               ...                  ...                 ...   \n",
       "1913        -0.631648            -2.537072           -0.145266   \n",
       "1914         1.583161             2.388974           -0.810054   \n",
       "1915         1.583161            -1.168830           -0.957785   \n",
       "1916        -0.631648             0.043417           -0.329929   \n",
       "1917        -0.631648             0.710623            0.039397   \n",
       "\n",
       "      maximum_daily_mins  weekly_max_night_mins  videos_watched  \\\n",
       "0              -1.524463              -0.943253       -1.499525   \n",
       "1               0.306373              -0.686820       -0.624736   \n",
       "2              -2.289522              -0.481674       -1.499525   \n",
       "3               0.642468               0.082478       -0.187341   \n",
       "4              -0.338178              -0.891967        1.124843   \n",
       "...                  ...                    ...             ...   \n",
       "1913           -2.537171              -0.327814        0.687449   \n",
       "1914            2.389280               0.441484       -0.624736   \n",
       "1915           -1.168467              -1.250973       -0.624736   \n",
       "1916            0.043246               0.800490       -0.624736   \n",
       "1917            0.711014              -0.584247        0.687449   \n",
       "\n",
       "      maximum_days_inactive  customer_support_calls  \n",
       "0                  0.960545               -0.415743  \n",
       "1                 -0.331861                0.491418  \n",
       "2                  0.960545                1.852161  \n",
       "3                 -0.331861                1.398580  \n",
       "4                 -0.331861               -0.415743  \n",
       "...                     ...                     ...  \n",
       "1913              -0.331861                0.491418  \n",
       "1914              -0.331861               -1.322904  \n",
       "1915              -0.331861                1.398580  \n",
       "1916              -0.331861               -0.415743  \n",
       "1917              -0.331861               -0.415743  \n",
       "\n",
       "[1918 rows x 12 columns]"
      ]
     },
     "execution_count": 36,
     "metadata": {},
     "output_type": "execute_result"
    }
   ],
   "source": [
    "x"
   ]
  },
  {
   "cell_type": "code",
   "execution_count": 37,
   "id": "04f03df1",
   "metadata": {},
   "outputs": [
    {
     "data": {
      "text/plain": [
       "0       0\n",
       "1       0\n",
       "2       1\n",
       "3       0\n",
       "4       0\n",
       "       ..\n",
       "1913    0\n",
       "1914    0\n",
       "1915    0\n",
       "1916    0\n",
       "1917    1\n",
       "Name: churn, Length: 1918, dtype: int32"
      ]
     },
     "execution_count": 37,
     "metadata": {},
     "output_type": "execute_result"
    }
   ],
   "source": [
    "y"
   ]
  },
  {
   "cell_type": "code",
   "execution_count": 38,
   "id": "6722f489",
   "metadata": {},
   "outputs": [],
   "source": [
    "# train test split \n",
    "\n",
    "from sklearn.model_selection import train_test_split\n",
    "\n",
    "x_train , x_test , y_train , y_test = train_test_split(x,y,test_size=0.2,random_state=1234)"
   ]
  },
  {
   "cell_type": "code",
   "execution_count": 39,
   "id": "f397160a",
   "metadata": {},
   "outputs": [
    {
     "name": "stdout",
     "output_type": "stream",
     "text": [
      "(1534, 12)\n",
      "(384, 12)\n",
      "(1534,)\n",
      "(384,)\n"
     ]
    }
   ],
   "source": [
    "print(x_train.shape)\n",
    "print(x_test.shape)\n",
    "print(y_train.shape)\n",
    "print(y_test.shape)"
   ]
  },
  {
   "cell_type": "code",
   "execution_count": 40,
   "id": "1070c324",
   "metadata": {},
   "outputs": [],
   "source": [
    "from sklearn.linear_model import LogisticRegression\n",
    "from sklearn.tree import DecisionTreeClassifier\n",
    "from sklearn.neighbors import KNeighborsClassifier\n",
    "from sklearn.ensemble import RandomForestClassifier\n",
    "\n",
    "from sklearn.metrics import accuracy_score, f1_score, precision_score, recall_score ,roc_curve\n",
    "from sklearn.metrics import confusion_matrix,ConfusionMatrixDisplay"
   ]
  },
  {
   "cell_type": "code",
   "execution_count": 41,
   "id": "6922f949",
   "metadata": {},
   "outputs": [
    {
     "name": "stdout",
     "output_type": "stream",
     "text": [
      "Model Name : Logistic_Regression\n",
      "accuray is: 86.46\n",
      "F1 is: 23.53\n",
      "Precision is: 53.33\n",
      "Recall is: 15.09\n",
      "-----------------------------------\n"
     ]
    },
    {
     "data": {
      "image/png": "[encoded data removed]",
      "text/plain": [
       "<Figure size 640x480 with 2 Axes>"
      ]
     },
     "metadata": {},
     "output_type": "display_data"
    },
    {
     "data": {
      "image/png": "[encoded data removed]",
      "text/plain": [
       "<Figure size 640x480 with 1 Axes>"
      ]
     },
     "metadata": {},
     "output_type": "display_data"
    },
    {
     "name": "stdout",
     "output_type": "stream",
     "text": [
      "Model Name : Descision_terr\n",
      "accuray is: 88.54\n",
      "F1 is: 56.0\n",
      "Precision is: 59.57\n",
      "Recall is: 52.83\n",
      "-----------------------------------\n"
     ]
    },
    {
     "data": {
      "image/png": "[encoded data removed]",
      "text/plain": [
       "<Figure size 640x480 with 2 Axes>"
      ]
     },
     "metadata": {},
     "output_type": "display_data"
    },
    {
     "data": {
      "image/png": "[encoded data removed]",
      "text/plain": [
       "<Figure size 640x480 with 1 Axes>"
      ]
     },
     "metadata": {},
     "output_type": "display_data"
    },
    {
     "name": "stdout",
     "output_type": "stream",
     "text": [
      "Model Name : KNN\n",
      "accuray is: 88.28\n",
      "F1 is: 36.62\n",
      "Precision is: 72.22\n",
      "Recall is: 24.53\n",
      "-----------------------------------\n"
     ]
    },
    {
     "data": {
      "image/png": "[encoded data removed]",
      "text/plain": [
       "<Figure size 640x480 with 2 Axes>"
      ]
     },
     "metadata": {},
     "output_type": "display_data"
    },
    {
     "data": {
      "image/png": "[encoded data removed]",
      "text/plain": [
       "<Figure size 640x480 with 1 Axes>"
      ]
     },
     "metadata": {},
     "output_type": "display_data"
    },
    {
     "name": "stdout",
     "output_type": "stream",
     "text": [
      "Model Name : Random_Forest\n",
      "accuray is: 92.97\n",
      "F1 is: 67.47\n",
      "Precision is: 93.33\n",
      "Recall is: 52.83\n",
      "-----------------------------------\n"
     ]
    },
    {
     "data": {
      "image/png": "[encoded data removed]",
      "text/plain": [
       "<Figure size 640x480 with 2 Axes>"
      ]
     },
     "metadata": {},
     "output_type": "display_data"
    },
    {
     "data": {
      "image/png": "[encoded data removed]",
      "text/plain": [
       "<Figure size 640x480 with 1 Axes>"
      ]
     },
     "metadata": {},
     "output_type": "display_data"
    }
   ],
   "source": [
    "models = {\n",
    "    'Logistic_Regression': LogisticRegression(),\n",
    "    'Descision_terr': DecisionTreeClassifier(),\n",
    "    'KNN': KNeighborsClassifier(),\n",
    "    'Random_Forest': RandomForestClassifier()\n",
    "}\n",
    "\n",
    "for model_name, model in models.items():\n",
    "    model.fit (x_train,y_train)\n",
    "\n",
    "     #Make predictions on the test data\n",
    "    y_pred = model.predict(x_test)\n",
    "\n",
    "\n",
    "    acc_log= round(accuracy_score(y_test,y_pred)*100,2)\n",
    "    f1_log=round(f1_score(y_test,y_pred)*100,2)\n",
    "    precision_log=round(precision_score(y_test,y_pred)*100,2)\n",
    "    recall_log=round(recall_score(y_test,y_pred)*100,2)\n",
    "    print('Model Name :',model_name)\n",
    "    print(\"accuray is:\",acc_log)\n",
    "    print(\"F1 is:\",f1_log)\n",
    "    print(\"Precision is:\",precision_log)\n",
    "    print(\"Recall is:\",recall_log)\n",
    "    print(\"-----------------------------------\")\n",
    "\n",
    "\n",
    "    cmt=confusion_matrix(y_test,y_pred)\n",
    "    ConfusionMatrixDisplay(cmt).plot()\n",
    "    plt.grid(False)\n",
    "    plt.show()\n",
    "\n",
    "    tn, fp, fn, tp = confusion_matrix(y_test,y_pred).ravel()\n",
    "    # print('Model name :',model_name)\n",
    "    # print(\"True negative:\",tn)\n",
    "    # print(\"False postive:\",fp)\n",
    "    # print(\"False negative:\",fn)\n",
    "    # print(\"True postive:\",tp)\n",
    "    # print(\"---------------------------------------\")\n",
    "\n",
    "    y_predict_prob = model.predict_proba(x_test)\n",
    "    y_predict_prob\n",
    "\n",
    "\n",
    "    fpr, tpr, thresholds = roc_curve(y_test,y_predict_prob[:,1])\n",
    "    plt.plot(fpr,tpr)\n",
    "    plt.show()\n",
    "\n",
    "\n",
    "\n",
    "\n",
    "    \n",
    "\n"
   ]
  },
  {
   "cell_type": "markdown",
   "id": "bdcfca88",
   "metadata": {},
   "source": [
    "# Model Developement with Hyperparameter tunning "
   ]
  },
  {
   "cell_type": "markdown",
   "id": "d33419e7",
   "metadata": {},
   "source": [
    "### Hyperparameter"
   ]
  },
  {
   "cell_type": "code",
   "execution_count": 49,
   "id": "9af923c3",
   "metadata": {},
   "outputs": [],
   "source": [
    "from sklearn.model_selection import GridSearchCV,cross_val_score\n",
    "def gird_fit_model(model, param_grid):\n",
    "    grid_search_model = GridSearchCV(model, param_grid, scoring='accuracy', cv=5, verbose=True, n_jobs=-1)\n",
    "    \n",
    "    # Model fitting\n",
    "    grid_search_model.fit(x_train, y_train)\n",
    "\n",
    "    print(grid_search_model.best_params_)\n",
    "\n",
    "    accuracy_list = cross_val_score(grid_search_model.best_estimator_,x_train, y_train, cv=5, scoring='accuracy')\n",
    "\n",
    "    print(f'Cross Val Accuracy Mean : {accuracy_list.mean()}')\n",
    "    print(f'Cross Val Best Score : {grid_search_model.best_score_}')"
   ]
  },
  {
   "cell_type": "code",
   "execution_count": null,
   "id": "1030c50d",
   "metadata": {},
   "outputs": [],
   "source": []
  },
  {
   "cell_type": "markdown",
   "id": "29af7f0d",
   "metadata": {},
   "source": [
    "## Logistic Regression"
   ]
  },
  {
   "cell_type": "code",
   "execution_count": 51,
   "id": "6e23a83b",
   "metadata": {},
   "outputs": [
    {
     "name": "stdout",
     "output_type": "stream",
     "text": [
      "Fitting 5 folds for each of 80 candidates, totalling 400 fits\n",
      "{'C': 1.0, 'max_iter': 100, 'penalty': 'l2', 'random_state': 0}\n",
      "Cross Val Accuracy Mean : 0.8741798130761534\n",
      "Cross Val Best Score : 0.8741798130761534\n"
     ]
    }
   ],
   "source": [
    "LR = LogisticRegression()\n",
    "LR\n",
    "\n",
    "\n",
    "param_grid = {\n",
    "    \"C\":[0.8,1.0,5,7,10], # regularization techinque \n",
    "    \"max_iter\":[100,200,300,500],  # to find the coefficient by gradient decent \n",
    "    \"penalty\":['l1','l2'], # regression technique \n",
    "    \"random_state\":[0,42]\n",
    "}\n",
    "\n",
    "gird_fit_model(LR , param_grid)"
   ]
  },
  {
   "cell_type": "markdown",
   "id": "52522987",
   "metadata": {},
   "source": [
    "# Descision Tere"
   ]
  },
  {
   "cell_type": "code",
   "execution_count": 52,
   "id": "632b5035",
   "metadata": {},
   "outputs": [
    {
     "name": "stdout",
     "output_type": "stream",
     "text": [
      "Fitting 5 folds for each of 288 candidates, totalling 1440 fits\n",
      "{'criterion': 'entropy', 'max_depth': 5, 'min_samples_leaf': 4, 'min_samples_split': 2, 'random_state': 0}\n",
      "Cross Val Accuracy Mean : 0.9211343169189499\n",
      "Cross Val Best Score : 0.9211343169189499\n"
     ]
    }
   ],
   "source": [
    "DT = DecisionTreeClassifier()\n",
    "DT\n",
    "\n",
    "\n",
    "param_grid = {\n",
    "    \"criterion\":['gini','entropy'], \n",
    "    \"max_depth\":[3,4,5,6,7,8],  \n",
    "    \"min_samples_split\":[2,3,4],\n",
    "    \"min_samples_leaf\":[1,2,3,4],\n",
    "    \"random_state\":[0,42]    \n",
    "}\n",
    "\n",
    "gird_fit_model(DT , param_grid)"
   ]
  },
  {
   "cell_type": "markdown",
   "id": "e269c844",
   "metadata": {},
   "source": [
    "### KNN"
   ]
  },
  {
   "cell_type": "code",
   "execution_count": 57,
   "id": "b184d328",
   "metadata": {},
   "outputs": [
    {
     "name": "stdout",
     "output_type": "stream",
     "text": [
      "Fitting 5 folds for each of 125 candidates, totalling 625 fits\n",
      "{'leaf_size': 10, 'n_neighbors': 5, 'p': 1}\n",
      "Cross Val Accuracy Mean : 0.8794064422728918\n",
      "Cross Val Best Score : 0.8794064422728918\n"
     ]
    }
   ],
   "source": [
    "KNN = KNeighborsClassifier()\n",
    "KNN\n",
    "\n",
    "param_grid = {\n",
    "    \"leaf_size\":[10,20,30,40,50],\n",
    "    \"n_neighbors\":[1,2,3,4,5],\n",
    "    \"p\":[1,2,3,4,5]\n",
    "}\n",
    "\n",
    "gird_fit_model(KNN , param_grid)\n"
   ]
  },
  {
   "cell_type": "markdown",
   "id": "9ba12674",
   "metadata": {},
   "source": [
    "### Random Forest "
   ]
  },
  {
   "cell_type": "code",
   "execution_count": 58,
   "id": "a8614cf0",
   "metadata": {},
   "outputs": [
    {
     "name": "stdout",
     "output_type": "stream",
     "text": [
      "Fitting 5 folds for each of 96 candidates, totalling 480 fits\n",
      "{'criterion': 'gini', 'max_depth': 10, 'max_features': 'sqrt', 'n_estimators': 100, 'random_state': 0}\n",
      "Cross Val Accuracy Mean : 0.9296033722935428\n",
      "Cross Val Best Score : 0.9296033722935428\n"
     ]
    }
   ],
   "source": [
    "RF = RandomForestClassifier()\n",
    "RF\n",
    "\n",
    "param_grid = {\n",
    "    'n_estimators': [100, 200, 300],\n",
    "    \"criterion\":['gini','entropy'],\n",
    "    'max_depth': [3, 5, 7, 10], \n",
    "    'max_features': ['sqrt', 'log2'], \n",
    "    'random_state': [0, 42] \n",
    "}\n",
    "\n",
    "gird_fit_model(RF , param_grid)\n"
   ]
  },
  {
   "cell_type": "code",
   "execution_count": null,
   "id": "81c6f896",
   "metadata": {},
   "outputs": [],
   "source": []
  }
 ],
 "metadata": {
  "kernelspec": {
   "display_name": "Python 3",
   "language": "python",
   "name": "python3"
  },
  "language_info": {
   "codemirror_mode": {
    "name": "ipython",
    "version": 3
   },
   "file_extension": ".py",
   "mimetype": "text/x-python",
   "name": "python",
   "nbconvert_exporter": "python",
   "pygments_lexer": "ipython3",
   "version": "3.12.0"
  }
 },
 "nbformat": 4,
 "nbformat_minor": 5
}
